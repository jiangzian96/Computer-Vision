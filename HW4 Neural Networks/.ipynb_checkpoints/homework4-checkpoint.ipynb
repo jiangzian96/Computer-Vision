{
 "cells": [
  {
   "cell_type": "markdown",
   "metadata": {},
   "source": [
    "## Homework 4: Neural Networks"
   ]
  },
  {
   "cell_type": "markdown",
   "metadata": {},
   "source": [
    "**Due date:** May 2, 2021\n",
    "\n",
    "The goal of the assignment is to train a simple neural network on MNIST data.\n",
    "\n",
    "*Note:* This notebook requires Python 3.\n",
    "\n",
    "**Instructions:**\n",
    "\n",
    "* Read and understand the provided code, which is a basic implementation of a neural network as a modular architecture.\n",
    "* Download the [MNIST data](http://deeplearning.net/data/mnist/mnist.pkl.gz) (~15Mo). It consists of 28x28 images (loaded as a 784 vector) and the associated labels for training, validation and test sets. For this homework, you will only use the training and validation sets. \n",
    "* Write a simple loop to train 50 iterations of the implemented MLP (multi-layer perceptron) with a learning rate 0.001 and batches of size 16. Plot the training and validation losses throughout the training process (you don't have to test your network at every iteration, you can do it for example every 10 iterations).\n",
    "* Evaluate the accuracy of your trained model on the training and validation data. Check the predictions on random validation images.\n",
    "* Try changing learning rate and batch size and see if you can improve your results.\n",
    "* How many parameters does the network have? Implement and experiment with some variations of the architecture, for example:\n",
    "    * Implement and use the cross-entropy loss instead of L2 loss.\n",
    "    * Add a parameter to vary the size of the intermediate layer.\n",
    "    * Use a MLP with 3 layers and parameters for the sizes of the two intermediate layers.\n"
   ]
  },
  {
   "cell_type": "markdown",
   "metadata": {},
   "source": [
    "## MLP implementation"
   ]
  },
  {
   "cell_type": "code",
   "execution_count": 55,
   "metadata": {},
   "outputs": [],
   "source": [
    "import numpy as np \n",
    "import math\n",
    "import matplotlib.pyplot as plt \n",
    "%matplotlib inline \n",
    "plt.rcParams['image.cmap'] = 'gray' \n",
    "import gzip\n",
    "import pickle\n",
    "import tqdm.notebook as tqdm\n",
    "\n",
    "class Module(object):\n",
    "    def __init__(self):\n",
    "        self.gradInput=None \n",
    "        self.output=None\n",
    "        \n",
    "    def forward(self, *input):\n",
    "        \"\"\"Defines the computation performed at every call.\n",
    "        Should be overriden by all subclasses.\n",
    "        \"\"\"\n",
    "        raise NotImplementedError\n",
    "        \n",
    "    def backward(self, *input):\n",
    "        \"\"\"Defines the computation performed at every call.\n",
    "        Should be overriden by all subclasses.\n",
    "        \"\"\"\n",
    "        raise NotImplementedError\n",
    "        \n",
    "class LeastSquareCriterion(Module):\n",
    "    \"\"\"\n",
    "    This implementation of the least square loss assumes that the data comes as a 2 dimensional array\n",
    "    of size (batch_size,num_classes) and the labels as a vector of size (num_classes) \n",
    "    \"\"\"\n",
    "    def __init__(self, num_classes=10):\n",
    "        super(LeastSquareCriterion, self).__init__()\n",
    "        self.num_classes=num_classes\n",
    "    \n",
    "    def forward(self, x,labels):\n",
    "        target=np.zeros([x.shape[0],self.num_classes])\n",
    "        for i in range(x.shape[0]):\n",
    "            target[i,labels[i]]=1\n",
    "        self.output = np.sum((target-x)**2,axis=0)\n",
    "        return np.sum(self.output)\n",
    "    \n",
    "    def backward(self, x, labels):\n",
    "        self.gradInput=x\n",
    "        for i in range(x.shape[0]):\n",
    "            self.gradInput[i,labels[i]]=x[i,labels[i]]-1\n",
    "        return self.gradInput\n",
    "    \n",
    "\n",
    "class Linear(Module):\n",
    "    \"\"\"\n",
    "    The input is supposed to have two dimensions (batchSize,in_feature)\n",
    "    \"\"\"\n",
    "    def __init__(self, in_features, out_features, bias=True):\n",
    "        super(Linear, self).__init__()\n",
    "        self.in_features = in_features\n",
    "        self.out_features = out_features\n",
    "        self.weight = math.sqrt(1. / (out_features* in_features))*np.random.randn(out_features, in_features)\n",
    "        self.bias = np.zeros(out_features)\n",
    "        self.gradWeight=None\n",
    "        self.gradBias=None\n",
    "        \n",
    "    def forward(self, x):\n",
    "        self.output= np.dot(x,self.weight.transpose())+np.repeat(self.bias.reshape([1,-1]),x.shape[0], axis=0)\n",
    "        return self.output\n",
    "    \n",
    "    def backward(self, x, gradOutput):\n",
    "        self.gradInput=np.dot(gradOutput,self.weight)\n",
    "        self.gradWeight=np.dot(gradOutput.transpose(),x)\n",
    "        self.gradBias=np.sum(gradOutput, axis=0)\n",
    "        return self.gradInput\n",
    "    \n",
    "    def gradientStep(self,lr):\n",
    "        self.weight=self.weight-lr*self.gradWeight\n",
    "        self.bias=self.bias-lr*self.gradBias\n",
    "        \n",
    "\n",
    "class ReLU(Module):\n",
    "    \n",
    "    def __init__(self, bias=True):\n",
    "        super(ReLU, self).__init__()\n",
    "        \n",
    "    def forward(self, x):\n",
    "        self.output=x.clip(0)\n",
    "        return self.output\n",
    "    \n",
    "    def backward(self, x, gradOutput):\n",
    "        self.gradInput=(x>0)*gradOutput\n",
    "        return self.gradInput\n",
    "    \n",
    "        \n",
    "\n",
    "class MLP(Module):\n",
    "\n",
    "    def __init__(self, num_classes=10):\n",
    "        super(MLP, self).__init__()\n",
    "        self.fc1 = Linear(784, 64)\n",
    "        self.relu1 = ReLU()\n",
    "        self.fc2 = Linear(64, 10)\n",
    "    \n",
    "    def forward(self, x):\n",
    "        x = self.fc1.forward(x)\n",
    "        x = self.relu1.forward(x)\n",
    "        x = self.fc2.forward(x)\n",
    "        return x\n",
    "    \n",
    "    def backward(self, x, gradient):\n",
    "        gradient = self.fc2.backward(self.relu1.output,gradient)\n",
    "        gradient = self.relu1.backward(self.fc1.output,gradient)\n",
    "        gradient = self.fc1.backward(x,gradient)\n",
    "        return gradient\n",
    "    \n",
    "    def gradientStep(self,lr):\n",
    "        self.fc2.gradientStep(lr)\n",
    "        self.fc1.gradientStep(lr)\n",
    "        return True"
   ]
  },
  {
   "cell_type": "markdown",
   "metadata": {},
   "source": [
    "## Load and visualize the dataset"
   ]
  },
  {
   "cell_type": "code",
   "execution_count": 24,
   "metadata": {},
   "outputs": [
    {
     "name": "stdout",
     "output_type": "stream",
     "text": [
      "5\n"
     ]
    },
    {
     "data": {
      "image/png": "[encoded data removed]",
      "text/plain": [
       "<Figure size 432x288 with 1 Axes>"
      ]
     },
     "metadata": {
      "needs_background": "light"
     },
     "output_type": "display_data"
    }
   ],
   "source": [
    "path = 'mnist/' # where you saved the dataset\n",
    "f = gzip.open(path + 'mnist.pkl.gz', 'rb') \n",
    "train_set, val_set, test_set = pickle.load(f, encoding='latin1')\n",
    "f.close()\n",
    "train_data = train_set[0]\n",
    "train_labels = train_set[1]\n",
    "val_data = val_set[0]\n",
    "val_labels = val_set[1]\n",
    "N_train = train_data.shape[0]\n",
    "N_val = val_data.shape[0]\n",
    "# check that the data makes sense\n",
    "plt.imshow(train_data[0, :].reshape(28, 28))\n",
    "print(train_labels[0])"
   ]
  },
  {
   "cell_type": "code",
   "execution_count": 48,
   "metadata": {},
   "outputs": [],
   "source": [
    "LR = 0.001\n",
    "BATCH_SIZE = 16\n",
    "NUM_ITERATION = 50"
   ]
  },
  {
   "cell_type": "code",
   "execution_count": 27,
   "metadata": {},
   "outputs": [],
   "source": [
    "train_data = np.array_split(train_data, train_data.shape[0] // BATCH_SIZE)\n",
    "train_labels = np.array_split(train_labels, train_labels.shape[0] // BATCH_SIZE)\n",
    "val_data = np.array_split(val_data, val_data.shape[0] // BATCH_SIZE)\n",
    "val_labels = np.array_split(val_labels, val_labels.shape[0] // BATCH_SIZE)"
   ]
  },
  {
   "cell_type": "code",
   "execution_count": 61,
   "metadata": {},
   "outputs": [
    {
     "data": {
      "application/vnd.jupyter.widget-view+json": {
       "model_id": "b5a5230216a14858892c46740b25117e",
       "version_major": 2,
       "version_minor": 0
      },
      "text/plain": [
       "HBox(children=(HTML(value=''), FloatProgress(value=0.0, max=50.0), HTML(value='')))"
      ]
     },
     "metadata": {},
     "output_type": "display_data"
    },
    {
     "name": "stdout",
     "output_type": "stream",
     "text": [
      "\n"
     ]
    }
   ],
   "source": [
    "model = MLP()\n",
    "ls_loss = LeastSquareCriterion()\n",
    "\n",
    "train_losses = []\n",
    "val_losses = []\n",
    "\n",
    "for t in tqdm.tqdm(range(NUM_ITERATION)):\n",
    "    for batch, images in enumerate(train_data):\n",
    "        labels = train_labels[batch]\n",
    "        out = model.forward(images)\n",
    "        loss = ls_loss.forward(out, labels)\n",
    "        ls_loss.backward(out, labels)\n",
    "        model.backward(images, ls_loss.gradInput)\n",
    "        model.gradientStep(LR)\n",
    "    train_losses.append(loss)\n",
    "    loss = 0.0\n",
    "    for batch, images in enumerate(val_data):\n",
    "        labels = val_labels[batch]\n",
    "        out = model.forward(images)\n",
    "        loss += ls_loss.forward(out, labels)\n",
    "    val_losses.append(loss/len(val_data))  "
   ]
  },
  {
   "cell_type": "code",
   "execution_count": 68,
   "metadata": {},
   "outputs": [
    {
     "data": {
      "text/plain": [
       "Text(0, 0.5, 'loss per batch')"
      ]
     },
     "execution_count": 68,
     "metadata": {},
     "output_type": "execute_result"
    },
    {
     "data": {
      "image/png": "[encoded data removed]",
      "text/plain": [
       "<Figure size 432x288 with 1 Axes>"
      ]
     },
     "metadata": {
      "needs_background": "light"
     },
     "output_type": "display_data"
    }
   ],
   "source": [
    "plt.plot(train_losses, \"o-\", label=\"train\")\n",
    "plt.plot(val_losses, \"-x\", label=\"val\")\n",
    "plt.legend()\n",
    "plt.xlabel(\"iteration\")\n",
    "plt.ylabel(\"loss per batch\")"
   ]
  },
  {
   "cell_type": "markdown",
   "metadata": {},
   "source": [
    "## compute accuracy on train and val sets"
   ]
  },
  {
   "cell_type": "code",
   "execution_count": 80,
   "metadata": {},
   "outputs": [],
   "source": [
    "def compute_accuracy(model, data, labels):\n",
    "    correct = 0.0\n",
    "    total = 0.0\n",
    "\n",
    "    for batch, images in enumerate(data):\n",
    "        targets = labels[batch]\n",
    "        out = model.forward(images)\n",
    "        predictions = out.argmax(axis=1)\n",
    "        total += len(predictions)\n",
    "        correct += sum(targets == predictions)\n",
    "        \n",
    "    print(\"accuracy:\", correct/total)"
   ]
  },
  {
   "cell_type": "code",
   "execution_count": 81,
   "metadata": {},
   "outputs": [
    {
     "name": "stdout",
     "output_type": "stream",
     "text": [
      "accuracy: 0.9771\n"
     ]
    }
   ],
   "source": [
    "compute_accuracy(model, train_data, train_labels)"
   ]
  },
  {
   "cell_type": "code",
   "execution_count": 82,
   "metadata": {},
   "outputs": [
    {
     "name": "stdout",
     "output_type": "stream",
     "text": [
      "accuracy: 0.9694\n"
     ]
    }
   ],
   "source": [
    "compute_accuracy(model, val_data, val_labels)"
   ]
  },
  {
   "cell_type": "markdown",
   "metadata": {},
   "source": [
    "## check predictions on random val images"
   ]
  },
  {
   "cell_type": "code",
   "execution_count": 87,
   "metadata": {},
   "outputs": [],
   "source": [
    "random_indices = np.random.choice(len(val_data), 3, replace=False)"
   ]
  },
  {
   "cell_type": "code",
   "execution_count": 90,
   "metadata": {},
   "outputs": [
    {
     "name": "stdout",
     "output_type": "stream",
     "text": [
      "prediction: 0 target: 0\n",
      "prediction: 6 target: 6\n",
      "prediction: 2 target: 2\n"
     ]
    },
    {
     "data": {
      "image/png": "[encoded data removed]",
      "text/plain": [
       "<Figure size 432x288 with 1 Axes>"
      ]
     },
     "metadata": {
      "needs_background": "light"
     },
     "output_type": "display_data"
    },
    {
     "data": {
      "image/png": "[encoded data removed]",
      "text/plain": [
       "<Figure size 432x288 with 1 Axes>"
      ]
     },
     "metadata": {
      "needs_background": "light"
     },
     "output_type": "display_data"
    },
    {
     "data": {
      "image/png": "[encoded data removed]",
      "text/plain": [
       "<Figure size 432x288 with 1 Axes>"
      ]
     },
     "metadata": {
      "needs_background": "light"
     },
     "output_type": "display_data"
    }
   ],
   "source": [
    "for batch in random_indices:\n",
    "    images = val_data[batch]\n",
    "    prediction = model.forward(images)[0].argmax()\n",
    "    target = val_labels[batch][0]\n",
    "    print(\"prediction:\", prediction, \"target:\", target)\n",
    "    plt.figure()\n",
    "    plt.imshow(images[0].reshape(28, 28))"
   ]
  },
  {
   "cell_type": "code",
   "execution_count": 99,
   "metadata": {},
   "outputs": [
    {
     "name": "stdout",
     "output_type": "stream",
     "text": [
      "the model has 50890 parameters\n"
     ]
    }
   ],
   "source": [
    "print(\"the model has\", model.fc1.weight.size + model.fc1.bias.size + model.fc2.weight.size + model.fc2.bias.size, \"parameters\")"
   ]
  },
  {
   "cell_type": "markdown",
   "metadata": {},
   "source": [
    "## check learning rate and batch size"
   ]
  },
  {
   "cell_type": "code",
   "execution_count": 100,
   "metadata": {},
   "outputs": [],
   "source": [
    "LR = 0.01\n",
    "BATCH_SIZE = 64\n",
    "NUM_ITERATION = 50"
   ]
  },
  {
   "cell_type": "code",
   "execution_count": 102,
   "metadata": {},
   "outputs": [],
   "source": [
    "path = 'mnist/' # where you saved the dataset\n",
    "f = gzip.open(path + 'mnist.pkl.gz', 'rb') \n",
    "train_set, val_set, test_set = pickle.load(f, encoding='latin1')\n",
    "f.close()\n",
    "train_data = train_set[0]\n",
    "train_labels = train_set[1]\n",
    "val_data = val_set[0]\n",
    "val_labels = val_set[1]\n",
    "N_train = train_data.shape[0]\n",
    "N_val = val_data.shape[0]"
   ]
  },
  {
   "cell_type": "code",
   "execution_count": 103,
   "metadata": {},
   "outputs": [],
   "source": [
    "train_data = np.array_split(train_data, train_data.shape[0] // BATCH_SIZE)\n",
    "train_labels = np.array_split(train_labels, train_labels.shape[0] // BATCH_SIZE)\n",
    "val_data = np.array_split(val_data, val_data.shape[0] // BATCH_SIZE)\n",
    "val_labels = np.array_split(val_labels, val_labels.shape[0] // BATCH_SIZE)"
   ]
  },
  {
   "cell_type": "code",
   "execution_count": 104,
   "metadata": {},
   "outputs": [
    {
     "data": {
      "application/vnd.jupyter.widget-view+json": {
       "model_id": "290ae894ddcc4bbc9603a3ff33088056",
       "version_major": 2,
       "version_minor": 0
      },
      "text/plain": [
       "HBox(children=(HTML(value=''), FloatProgress(value=0.0, max=50.0), HTML(value='')))"
      ]
     },
     "metadata": {},
     "output_type": "display_data"
    },
    {
     "name": "stdout",
     "output_type": "stream",
     "text": [
      "\n"
     ]
    }
   ],
   "source": [
    "model = MLP()\n",
    "ls_loss = LeastSquareCriterion()\n",
    "\n",
    "train_losses = []\n",
    "val_losses = []\n",
    "\n",
    "for t in tqdm.tqdm(range(NUM_ITERATION)):\n",
    "    for batch, images in enumerate(train_data):\n",
    "        labels = train_labels[batch]\n",
    "        out = model.forward(images)\n",
    "        loss = ls_loss.forward(out, labels)\n",
    "        ls_loss.backward(out, labels)\n",
    "        model.backward(images, ls_loss.gradInput)\n",
    "        model.gradientStep(LR)\n",
    "    train_losses.append(loss)\n",
    "    loss = 0.0\n",
    "    for batch, images in enumerate(val_data):\n",
    "        labels = val_labels[batch]\n",
    "        out = model.forward(images)\n",
    "        loss += ls_loss.forward(out, labels)\n",
    "    val_losses.append(loss/len(val_data))  "
   ]
  },
  {
   "cell_type": "markdown",
   "metadata": {},
   "source": [
    "### checking batch size or learning rate does not improve the accuracy "
   ]
  },
  {
   "cell_type": "code",
   "execution_count": 105,
   "metadata": {},
   "outputs": [
    {
     "name": "stdout",
     "output_type": "stream",
     "text": [
      "accuracy: 0.9752\n"
     ]
    }
   ],
   "source": [
    "compute_accuracy(model, train_data, train_labels)"
   ]
  },
  {
   "cell_type": "code",
   "execution_count": 106,
   "metadata": {},
   "outputs": [
    {
     "name": "stdout",
     "output_type": "stream",
     "text": [
      "accuracy: 0.964\n"
     ]
    }
   ],
   "source": [
    "compute_accuracy(model, val_data, val_labels)"
   ]
  },
  {
   "cell_type": "markdown",
   "metadata": {},
   "source": [
    "## Add a third layer for MLP and vary the size of the two intermediate layers"
   ]
  },
  {
   "cell_type": "code",
   "execution_count": 107,
   "metadata": {},
   "outputs": [],
   "source": [
    "class MLP(Module):\n",
    "\n",
    "    def __init__(self, layer_sizes=[64, 32], num_classes=10):\n",
    "        super(MLP, self).__init__()\n",
    "        self.fc1 = Linear(784, layer_sizes[0])\n",
    "        self.relu1 = ReLU()\n",
    "        self.fc2 = Linear(layer_sizes[0], layer_sizes[1])\n",
    "        self.relu2 = ReLU()\n",
    "        self.fc3 = Linear(layer_sizes[1], num_classes)\n",
    "    \n",
    "    def forward(self, x):\n",
    "        x = self.fc1.forward(x)\n",
    "        x = self.relu1.forward(x)\n",
    "        x = self.fc2.forward(x)\n",
    "        x = self.relu2.forward(x)\n",
    "        x = self.fc3.forward(x)\n",
    "        return x\n",
    "    \n",
    "    def backward(self, x, gradient):\n",
    "        gradient = self.fc3.backward(self.relu2.output,gradient)\n",
    "        gradient = self.relu2.backward(self.fc2.output,gradient)\n",
    "        gradient = self.fc2.backward(self.relu1.output,gradient)\n",
    "        gradient = self.relu1.backward(self.fc1.output,gradient)\n",
    "        gradient = self.fc1.backward(x,gradient)\n",
    "        return gradient\n",
    "    \n",
    "    def gradientStep(self,lr):\n",
    "        self.fc3.gradientStep(lr)\n",
    "        self.fc2.gradientStep(lr)\n",
    "        self.fc1.gradientStep(lr)\n",
    "        return True"
   ]
  },
  {
   "cell_type": "code",
   "execution_count": 108,
   "metadata": {},
   "outputs": [
    {
     "data": {
      "application/vnd.jupyter.widget-view+json": {
       "model_id": "9811913b12954c5f9f12ecbba44a30a3",
       "version_major": 2,
       "version_minor": 0
      },
      "text/plain": [
       "HBox(children=(HTML(value=''), FloatProgress(value=0.0, max=50.0), HTML(value='')))"
      ]
     },
     "metadata": {},
     "output_type": "display_data"
    },
    {
     "name": "stdout",
     "output_type": "stream",
     "text": [
      "\n",
      "accuracy: 0.9731\n"
     ]
    }
   ],
   "source": [
    "model = MLP(layer_sizes=[64, 32])\n",
    "ls_loss = LeastSquareCriterion()\n",
    "\n",
    "train_losses = []\n",
    "val_losses = []\n",
    "\n",
    "for t in tqdm.tqdm(range(NUM_ITERATION)):\n",
    "    for batch, images in enumerate(train_data):\n",
    "        labels = train_labels[batch]\n",
    "        out = model.forward(images)\n",
    "        loss = ls_loss.forward(out, labels)\n",
    "        ls_loss.backward(out, labels)\n",
    "        model.backward(images, ls_loss.gradInput)\n",
    "        model.gradientStep(LR)\n",
    "    train_losses.append(loss)\n",
    "    loss = 0.0\n",
    "    for batch, images in enumerate(val_data):\n",
    "        labels = val_labels[batch]\n",
    "        out = model.forward(images)\n",
    "        loss += ls_loss.forward(out, labels)\n",
    "    val_losses.append(loss/len(val_data))  \n",
    "    \n",
    "compute_accuracy(model, val_data, val_labels)"
   ]
  },
  {
   "cell_type": "code",
   "execution_count": 109,
   "metadata": {},
   "outputs": [
    {
     "data": {
      "application/vnd.jupyter.widget-view+json": {
       "model_id": "bebb8ead14df4c16ab2f0e2991573a3a",
       "version_major": 2,
       "version_minor": 0
      },
      "text/plain": [
       "HBox(children=(HTML(value=''), FloatProgress(value=0.0, max=50.0), HTML(value='')))"
      ]
     },
     "metadata": {},
     "output_type": "display_data"
    },
    {
     "name": "stdout",
     "output_type": "stream",
     "text": [
      "\n",
      "accuracy: 0.9784\n"
     ]
    }
   ],
   "source": [
    "model = MLP(layer_sizes=[128, 64])\n",
    "ls_loss = LeastSquareCriterion()\n",
    "\n",
    "train_losses = []\n",
    "val_losses = []\n",
    "\n",
    "for t in tqdm.tqdm(range(NUM_ITERATION)):\n",
    "    for batch, images in enumerate(train_data):\n",
    "        labels = train_labels[batch]\n",
    "        out = model.forward(images)\n",
    "        loss = ls_loss.forward(out, labels)\n",
    "        ls_loss.backward(out, labels)\n",
    "        model.backward(images, ls_loss.gradInput)\n",
    "        model.gradientStep(LR)\n",
    "    train_losses.append(loss)\n",
    "    loss = 0.0\n",
    "    for batch, images in enumerate(val_data):\n",
    "        labels = val_labels[batch]\n",
    "        out = model.forward(images)\n",
    "        loss += ls_loss.forward(out, labels)\n",
    "    val_losses.append(loss/len(val_data))  \n",
    "    \n",
    "compute_accuracy(model, val_data, val_labels)"
   ]
  },
  {
   "cell_type": "markdown",
   "metadata": {},
   "source": [
    "**As we can see, adding more layers and using a bigger network improved our accuracy by a bit, however, since we are doing already pretty well on this dataset, using such a big network may be an overkill.**"
   ]
  }
 ],
 "metadata": {
  "kernelspec": {
   "display_name": "Python 3",
   "language": "python",
   "name": "python3"
  },
  "language_info": {
   "codemirror_mode": {
    "name": "ipython",
    "version": 3
   },
   "file_extension": ".py",
   "mimetype": "text/x-python",
   "name": "python",
   "nbconvert_exporter": "python",
   "pygments_lexer": "ipython3",
   "version": "3.8.5"
  }
 },
 "nbformat": 4,
 "nbformat_minor": 2
}
