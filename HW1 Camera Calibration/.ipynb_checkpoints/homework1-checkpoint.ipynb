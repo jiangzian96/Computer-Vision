{
 "cells": [
  {
   "cell_type": "markdown",
   "metadata": {},
   "source": [
    "## Homework 1: camera calibration\n",
    "\n",
    "**Due date:** October 1st 2019\n",
    "\n",
    "The goal of the assignment is to implement the linear calibration method described in Section 1.3.1 of this [book chapter](https://www.di.ens.fr/%7Eponce/introvis/sbook.pdf).\n",
    "\n",
    "![calibration-image](img/calibration.jpg)\n",
    "\n",
    "**Detailed instructions:** The `pts2d` array contains in its columns the (u,v) positions of the image data points (with, by convention, the u and v coordinates with origin at the bottom left of the image, u going right and v going up), while the `pts3d` array contains in its columns the (x,y,z) coordinate vectors of the corresponding 3D points in a right-handed coordinate system. The origin of the world coordinate system is supposed to be in front of the camera, with negative z value.\n",
    "\n",
    "You should write functions that:\n",
    "* Compute the 3x4 projection matrix  M estimated from these data using the linear least-squares method of Sec. 1.3.1.\n",
    "* Compute the corresponding matrix K of intrinsic parameters using the method from M using the method described in the same section.\n",
    "* Draw together the input image points and the projection of the 3D data points obtained using M to generate a figure like Fig. 1.18, and estimate the root-mean-sqared reprojection error.\n",
    "\n",
    "You should also write short explanations describing your work and reporting your results."
   ]
  },
  {
   "cell_type": "code",
   "execution_count": 1,
   "metadata": {},
   "outputs": [],
   "source": [
    "import numpy as np\n",
    "import math\n",
    "\n",
    "pts2d = np.loadtxt(\"pts2d.txt\")\n",
    "pts3d = np.loadtxt(\"pts3d.txt\")"
   ]
  },
  {
   "cell_type": "markdown",
   "metadata": {},
   "source": [
    "count how many fiducial points there are"
   ]
  },
  {
   "cell_type": "code",
   "execution_count": 2,
   "metadata": {},
   "outputs": [
    {
     "name": "stdout",
     "output_type": "stream",
     "text": [
      "491\n"
     ]
    }
   ],
   "source": [
    "assert pts3d.shape[0] == pts2d.shape[0]\n",
    "\n",
    "n = pts2d.shape[0]\n",
    "print(n)"
   ]
  },
  {
   "cell_type": "markdown",
   "metadata": {},
   "source": [
    "pad $1$ to convert to homogenuous cordinate system "
   ]
  },
  {
   "cell_type": "code",
   "execution_count": 3,
   "metadata": {},
   "outputs": [
    {
     "name": "stdout",
     "output_type": "stream",
     "text": [
      "(491, 4)\n"
     ]
    }
   ],
   "source": [
    "pts3d = np.hstack((pts3d, np.ones(n).reshape(n, -1)))\n",
    "print(pts3d.shape)"
   ]
  },
  {
   "cell_type": "markdown",
   "metadata": {},
   "source": [
    "forming P matrix that is of shape $(2*n, 12)$"
   ]
  },
  {
   "cell_type": "code",
   "execution_count": 4,
   "metadata": {},
   "outputs": [],
   "source": [
    "import math\n",
    "\n",
    "P = np.zeros((2*n, 12)) # memory allocation\n",
    "\n",
    "for i in range(2*n):\n",
    "    n_index = math.floor(i / 2) # index of the fiducial point that we are on in [0, n]\n",
    "    P_i = pts3d[n_index]\n",
    "    \n",
    "    if i % 2 == 0:\n",
    "        x_i = pts2d[n_index, 0]\n",
    "        P[i, :4] = P_i\n",
    "        P[i, -4:] = -x_i*P_i\n",
    "    else:\n",
    "        y_i = pts2d[n_index, 1]\n",
    "        P[i, 4:8] = P_i\n",
    "        P[i, -4:] = -y_i*P_i"
   ]
  },
  {
   "cell_type": "code",
   "execution_count": 5,
   "metadata": {},
   "outputs": [
    {
     "data": {
      "text/plain": [
       "(982, 12)"
      ]
     },
     "execution_count": 5,
     "metadata": {},
     "output_type": "execute_result"
    }
   ],
   "source": [
    "P.shape"
   ]
  },
  {
   "cell_type": "markdown",
   "metadata": {},
   "source": [
    "compute eigenvalues for $P^T*P$ using SVD"
   ]
  },
  {
   "cell_type": "code",
   "execution_count": 6,
   "metadata": {},
   "outputs": [],
   "source": [
    "u, s, vh = np.linalg.svd(P, full_matrices=True)"
   ]
  },
  {
   "cell_type": "code",
   "execution_count": 7,
   "metadata": {},
   "outputs": [
    {
     "name": "stdout",
     "output_type": "stream",
     "text": [
      "(982, 982) (12,) (12, 12)\n"
     ]
    }
   ],
   "source": [
    "print(u.shape, s.shape, vh.shape)"
   ]
  },
  {
   "cell_type": "code",
   "execution_count": 8,
   "metadata": {},
   "outputs": [
    {
     "data": {
      "text/plain": [
       "array([2.13102637e+06, 9.52434729e+05, 6.33491338e+05, 4.49948325e+03,\n",
       "       3.53812573e+03, 2.56383354e+03, 1.62349965e+03, 7.57454031e+02,\n",
       "       7.01455640e+02, 3.28737627e+02, 6.73260330e+00, 4.31611461e-02])"
      ]
     },
     "execution_count": 8,
     "metadata": {},
     "output_type": "execute_result"
    }
   ],
   "source": [
    "s"
   ]
  },
  {
   "cell_type": "markdown",
   "metadata": {},
   "source": [
    "set m to be the eigenvector associated with the smallest eigenvalue"
   ]
  },
  {
   "cell_type": "code",
   "execution_count": 9,
   "metadata": {},
   "outputs": [],
   "source": [
    "m = vh[-1]"
   ]
  },
  {
   "cell_type": "markdown",
   "metadata": {},
   "source": [
    "make sure that $m$ is an unit vector"
   ]
  },
  {
   "cell_type": "code",
   "execution_count": 10,
   "metadata": {},
   "outputs": [
    {
     "data": {
      "text/plain": [
       "1.0000000000000002"
      ]
     },
     "execution_count": 10,
     "metadata": {},
     "output_type": "execute_result"
    }
   ],
   "source": [
    "np.linalg.norm(m)"
   ]
  },
  {
   "cell_type": "markdown",
   "metadata": {},
   "source": [
    "**reshape the $m$ vector to get projection matrix $M$**"
   ]
  },
  {
   "cell_type": "code",
   "execution_count": 11,
   "metadata": {},
   "outputs": [],
   "source": [
    "M = m.reshape(3, 4)"
   ]
  },
  {
   "cell_type": "code",
   "execution_count": 12,
   "metadata": {},
   "outputs": [
    {
     "data": {
      "text/plain": [
       "array([[-4.53359881e-03, -5.65451256e-04,  2.02849590e-03,\n",
       "        -5.23179344e-01],\n",
       "       [-1.84278426e-03,  4.15975903e-03, -1.68779276e-03,\n",
       "        -8.52192928e-01],\n",
       "       [-3.25683227e-06, -1.13804182e-06, -3.35237791e-06,\n",
       "        -1.43209220e-03]])"
      ]
     },
     "execution_count": 12,
     "metadata": {},
     "output_type": "execute_result"
    }
   ],
   "source": [
    "M"
   ]
  },
  {
   "cell_type": "code",
   "execution_count": 13,
   "metadata": {},
   "outputs": [],
   "source": [
    "A = M[:, :3]\n",
    "b = M[:, -1]"
   ]
  },
  {
   "cell_type": "markdown",
   "metadata": {},
   "source": [
    "Equation 1.24"
   ]
  },
  {
   "cell_type": "code",
   "execution_count": 14,
   "metadata": {},
   "outputs": [],
   "source": [
    "rho = 1/np.linalg.norm(A[-1])\n",
    "r_3 = rho*A[-1]\n",
    "x_0 = (rho**2)*(np.dot(A[0], A[-1]))\n",
    "y_0 = (rho**2)*(np.dot(A[1], A[-1]))"
   ]
  },
  {
   "cell_type": "markdown",
   "metadata": {},
   "source": [
    "Equation 1.26"
   ]
  },
  {
   "cell_type": "code",
   "execution_count": 15,
   "metadata": {},
   "outputs": [],
   "source": [
    "cos_theta = -np.dot(np.cross(A[0], A[-1]), np.cross(A[1], A[-1]))/(np.linalg.norm(np.cross(A[0], A[-1])) * np.linalg.norm(np.cross(A[1], A[-1])))\n",
    "theta = math.acos(cos_theta)\n",
    "sin_theta = np.sin(theta)\n",
    "alpha = (rho**2) * np.linalg.norm(np.cross(A[0], A[-1])) * sin_theta\n",
    "beta = (rho**2) * np.linalg.norm(np.cross(A[1], A[-1])) * sin_theta"
   ]
  },
  {
   "cell_type": "code",
   "execution_count": 16,
   "metadata": {},
   "outputs": [
    {
     "name": "stdout",
     "output_type": "stream",
     "text": [
      "theta: 1.5708979824246432, alpha: 970.284101291283, beta: 963.346576327692, x_0: 372.00496376318, y_0: 299.2920935163564\n"
     ]
    }
   ],
   "source": [
    "print(\"theta: {}, alpha: {}, beta: {}, x_0: {}, y_0: {}\".format(theta, alpha, beta, x_0, y_0))"
   ]
  },
  {
   "cell_type": "code",
   "execution_count": 17,
   "metadata": {},
   "outputs": [],
   "source": [
    "K = np.array([[alpha, -alpha*cos_theta/sin_theta, x_0], [0, beta/sin_theta, y_0], [0, 0, 1]])"
   ]
  },
  {
   "cell_type": "markdown",
   "metadata": {},
   "source": [
    "**printing out the intrinsic matrix $K$**"
   ]
  },
  {
   "cell_type": "code",
   "execution_count": 18,
   "metadata": {},
   "outputs": [
    {
     "data": {
      "text/plain": [
       "array([[9.70284101e+02, 9.86348417e-02, 3.72004964e+02],\n",
       "       [0.00000000e+00, 9.63346581e+02, 2.99292094e+02],\n",
       "       [0.00000000e+00, 0.00000000e+00, 1.00000000e+00]])"
      ]
     },
     "execution_count": 18,
     "metadata": {},
     "output_type": "execute_result"
    }
   ],
   "source": [
    "K"
   ]
  },
  {
   "cell_type": "markdown",
   "metadata": {},
   "source": [
    "Equation 1.27"
   ]
  },
  {
   "cell_type": "code",
   "execution_count": 19,
   "metadata": {},
   "outputs": [],
   "source": [
    "r_1 = np.cross(A[1], A[-1])/np.linalg.norm(np.cross(A[1], A[-1]))\n",
    "r_2 = np.cross(r_3, r_1)"
   ]
  },
  {
   "cell_type": "code",
   "execution_count": 20,
   "metadata": {},
   "outputs": [],
   "source": [
    "R = np.array([r_1, r_2, r_3]).T"
   ]
  },
  {
   "cell_type": "code",
   "execution_count": 21,
   "metadata": {},
   "outputs": [
    {
     "data": {
      "text/plain": [
       "array([[-0.71171772, -0.18731413, -0.67703124],\n",
       "       [-0.03054192,  0.97113272, -0.23657647],\n",
       "       [ 0.70180131, -0.14769783, -0.6968933 ]])"
      ]
     },
     "execution_count": 21,
     "metadata": {},
     "output_type": "execute_result"
    }
   ],
   "source": [
    "R"
   ]
  },
  {
   "cell_type": "code",
   "execution_count": 22,
   "metadata": {},
   "outputs": [
    {
     "data": {
      "text/plain": [
       "array([-0.18731413,  0.97113272, -0.14769783])"
      ]
     },
     "execution_count": 22,
     "metadata": {},
     "output_type": "execute_result"
    }
   ],
   "source": [
    "r_2"
   ]
  },
  {
   "cell_type": "markdown",
   "metadata": {},
   "source": [
    "$t = \\rho K^{-1}b$"
   ]
  },
  {
   "cell_type": "code",
   "execution_count": 23,
   "metadata": {},
   "outputs": [],
   "source": [
    "t = rho*np.dot(np.linalg.inv(K), b)"
   ]
  },
  {
   "cell_type": "markdown",
   "metadata": {},
   "source": [
    "$\\rho M = K[A| b] = \\text{transform}$"
   ]
  },
  {
   "cell_type": "code",
   "execution_count": 24,
   "metadata": {},
   "outputs": [],
   "source": [
    "transform = np.matmul(K, np.hstack((R, t.reshape(3, 1))))"
   ]
  },
  {
   "cell_type": "code",
   "execution_count": 25,
   "metadata": {},
   "outputs": [
    {
     "data": {
      "text/plain": [
       "array([[-4.29497826e+02, -2.36596465e+02, -9.16183753e+02,\n",
       "        -1.08758675e+05],\n",
       "       [ 1.80621129e+02,  8.91332597e+02, -4.36479785e+02,\n",
       "        -1.77154115e+05],\n",
       "       [ 7.01801312e-01, -1.47697829e-01, -6.96893298e-01,\n",
       "        -2.97703746e+02]])"
      ]
     },
     "execution_count": 25,
     "metadata": {},
     "output_type": "execute_result"
    }
   ],
   "source": [
    "transform"
   ]
  },
  {
   "cell_type": "markdown",
   "metadata": {},
   "source": [
    "Plots"
   ]
  },
  {
   "cell_type": "code",
   "execution_count": 26,
   "metadata": {},
   "outputs": [],
   "source": [
    "import matplotlib.pyplot as plt"
   ]
  },
  {
   "cell_type": "markdown",
   "metadata": {},
   "source": [
    "$p = MP$, where projection $p$ is in homogenuous cordinate system"
   ]
  },
  {
   "cell_type": "code",
   "execution_count": 27,
   "metadata": {},
   "outputs": [],
   "source": [
    "projection_homogenuous = np.dot(M, pts3d.T).T "
   ]
  },
  {
   "cell_type": "code",
   "execution_count": 28,
   "metadata": {},
   "outputs": [
    {
     "data": {
      "text/plain": [
       "array([[-0.5996651 , -0.81743831, -0.00149802],\n",
       "       [-0.66766908, -0.84508007, -0.00154687],\n",
       "       [-0.73567306, -0.87272183, -0.00159572],\n",
       "       ...,\n",
       "       [-0.15538068, -0.38391235, -0.00247588],\n",
       "       [-0.16386245, -0.32151596, -0.00249295],\n",
       "       [-0.17234421, -0.25911958, -0.00251002]])"
      ]
     },
     "execution_count": 28,
     "metadata": {},
     "output_type": "execute_result"
    }
   ],
   "source": [
    "projection_homogenuous"
   ]
  },
  {
   "cell_type": "markdown",
   "metadata": {},
   "source": [
    "convert homogenuous cordinate system back to euclidean cordinate system by dividing every 1st and 2nd entry by the third entry"
   ]
  },
  {
   "cell_type": "markdown",
   "metadata": {},
   "source": [
    "$[u, v, w] \\to [\\frac{u}{w}, \\frac{v}{w}, 1] $"
   ]
  },
  {
   "cell_type": "code",
   "execution_count": 29,
   "metadata": {},
   "outputs": [],
   "source": [
    "projection_euclidean = projection_homogenuous / projection_homogenuous[:, -1].reshape(-1, 1)"
   ]
  },
  {
   "cell_type": "code",
   "execution_count": 30,
   "metadata": {},
   "outputs": [
    {
     "data": {
      "text/plain": [
       "array([[400.30638484, 545.68087381,   1.        ],\n",
       "       [431.62646329, 546.31693182,   1.        ],\n",
       "       [461.02883267, 546.91404438,   1.        ],\n",
       "       ...,\n",
       "       [ 62.75783109, 155.06114905,   1.        ],\n",
       "       [ 65.73039775, 128.97019819,   1.        ],\n",
       "       [ 68.66253157, 103.23413628,   1.        ]])"
      ]
     },
     "execution_count": 30,
     "metadata": {},
     "output_type": "execute_result"
    }
   ],
   "source": [
    "projection_euclidean"
   ]
  },
  {
   "cell_type": "code",
   "execution_count": 31,
   "metadata": {},
   "outputs": [
    {
     "data": {
      "text/plain": [
       "<matplotlib.legend.Legend at 0x15f0dc12eb0>"
      ]
     },
     "execution_count": 31,
     "metadata": {},
     "output_type": "execute_result"
    },
    {
     "data": {
      "image/png": "[encoded data removed]",
      "text/plain": [
       "<Figure size 432x288 with 1 Axes>"
      ]
     },
     "metadata": {
      "needs_background": "light"
     },
     "output_type": "display_data"
    }
   ],
   "source": [
    "plt.scatter(pts2d[:, 0], pts2d[:, 1], label=\"original\", edgecolors='red', facecolors='none')\n",
    "plt.scatter(projection_euclidean[:, 0], projection_euclidean[:, 1], label=\"reprojected\", marker=\".\")\n",
    "plt.legend()"
   ]
  },
  {
   "cell_type": "code",
   "execution_count": 32,
   "metadata": {},
   "outputs": [
    {
     "name": "stdout",
     "output_type": "stream",
     "text": [
      "root-mean-sqared reprojection error: 0.9573541630285444\n"
     ]
    }
   ],
   "source": [
    "print(\"root-mean-sqared reprojection error:\", np.sqrt(np.mean(np.linalg.norm(pts2d-projection_euclidean[:, :2], axis=1)**2)))"
   ]
  }
 ],
 "metadata": {
  "kernelspec": {
   "display_name": "Python 3",
   "language": "python",
   "name": "python3"
  },
  "language_info": {
   "codemirror_mode": {
    "name": "ipython",
    "version": 3
   },
   "file_extension": ".py",
   "mimetype": "text/x-python",
   "name": "python",
   "nbconvert_exporter": "python",
   "pygments_lexer": "ipython3",
   "version": "3.8.5"
  }
 },
 "nbformat": 4,
 "nbformat_minor": 2
}
